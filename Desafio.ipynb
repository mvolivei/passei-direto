{
 "cells": [
  {
   "cell_type": "markdown",
   "id": "agreed-appearance",
   "metadata": {},
   "source": [
    "# Configuração do Spark"
   ]
  },
  {
   "cell_type": "code",
   "execution_count": 4,
   "id": "instructional-angel",
   "metadata": {},
   "outputs": [
    {
     "name": "stdout",
     "output_type": "stream",
     "text": [
      "3.14131664\n"
     ]
    }
   ],
   "source": [
    "import findspark\n",
    "findspark.init()\n",
    "\n",
    "import pyspark\n",
    "import random\n",
    "\n",
    "sc = pyspark.SparkContext(appName=\"Pi\")\n",
    "num_samples = 100000000\n",
    "\n",
    "def inside(p):     \n",
    "  x, y = random.random(), random.random()\n",
    "  return x*x + y*y < 1\n",
    "\n",
    "count = sc.parallelize(range(0, num_samples)).filter(inside).count()\n",
    "\n",
    "pi = 4 * count / num_samples\n",
    "print(pi)\n",
    "\n",
    "sc.stop()"
   ]
  },
  {
   "cell_type": "markdown",
   "id": "worth-roulette",
   "metadata": {},
   "source": [
    "## Carregando as bases"
   ]
  },
  {
   "cell_type": "code",
   "execution_count": 5,
   "id": "strategic-airplane",
   "metadata": {},
   "outputs": [],
   "source": [
    "from pyspark.sql import SparkSession\n",
    "from pyspark import SparkConf, SparkContext\n",
    "from pyspark.sql.types import *\n",
    "from pyspark.sql.functions import *\n",
    "\n",
    "spark = SparkSession \\\n",
    "    .builder \\\n",
    "    .appName(\"Python Spark SQL basic example\") \\\n",
    "    .config(\"spark.some.config.option\", \"some-value\") \\\n",
    "    .getOrCreate()\n",
    "\n",
    "#df = spark.read.json(\"/files/passei/BASE-A/courses.json\")\n",
    "\n",
    "# - Usuários que acessaram\n",
    "dfStudents = spark.read.format(\"json\").load(\"/files/passei/BASE-A/students.json\")\n",
    "\n",
    "# - Visitas que os usuários fizeram ao longo do mês\n",
    "dfSessions = spark.read.format(\"json\").load(\"/files/passei/BASE-A/sessions.json\")\n",
    "\n",
    "# - Assinaturas dos usuários que aderiram ao Plano Premium\n",
    "dfSubscriptions = spark.read.format(\"json\").load(\"/files/passei/BASE-A/subscriptions.json\")\n",
    "\n",
    "# - Lista de Universidades cadastradas\n",
    "dfUniversities = spark.read.format(\"json\").load(\"/files/passei/BASE-A/universities.json\")\n",
    "\n",
    "# - Lista de Cursos cadastrados\n",
    "dfCourses = spark.read.format(\"json\").load(\"/files/passei/BASE-A/courses.json\")\n",
    "\n",
    "# - subjects.json - Lista de Disciplinas\n",
    "dfSubjects = spark.read.format(\"json\").load(\"/files/passei/BASE-A/subjects.json\")\n",
    "\n",
    "# - Disciplinas que cada usuário está seguindo\n",
    "dfStudentFollow_subject = spark.read.format(\"json\").load(\"/files/passei/BASE-A/student_follow_subject.json\")"
   ]
  },
  {
   "cell_type": "markdown",
   "id": "aboriginal-device",
   "metadata": {},
   "source": [
    "# Conhecendo as bases"
   ]
  },
  {
   "cell_type": "code",
   "execution_count": 6,
   "id": "valued-archives",
   "metadata": {},
   "outputs": [
    {
     "name": "stdout",
     "output_type": "stream",
     "text": [
      "root\n",
      " |-- City: string (nullable = true)\n",
      " |-- CourseId: long (nullable = true)\n",
      " |-- Id: string (nullable = true)\n",
      " |-- RegisteredDate: string (nullable = true)\n",
      " |-- SignupSource: string (nullable = true)\n",
      " |-- State: string (nullable = true)\n",
      " |-- StudentClient: string (nullable = true)\n",
      " |-- UniversityId: long (nullable = true)\n",
      "\n",
      "+----------------+--------+--------------------+--------------------+------------+----------------+-------------+------------+\n",
      "|            City|CourseId|                  Id|      RegisteredDate|SignupSource|           State|StudentClient|UniversityId|\n",
      "+----------------+--------+--------------------+--------------------+------------+----------------+-------------+------------+\n",
      "|  Rio de Janeiro| 1199555|0cade9bf00234e378...|2012-09-06 17:27:...|    Facebook|  Rio de Janeiro|         null|      664704|\n",
      "|  Rio de Janeiro| 1199521|8a501cab6c0a5a7e9...|2012-09-05 15:31:...|    Facebook|  Rio de Janeiro|         null|      664704|\n",
      "|            null| 1199517|b8a39150d98d74685...|2012-08-17 10:00:...|    Facebook|            null|         null|      661625|\n",
      "|  Rio de Janeiro| 1199491|0f6c90f966a70b84b...|2012-10-22 21:16:...|    Facebook|  Rio de Janeiro|         null|      664768|\n",
      "|            null| 1199573|388bf84cffb321938...|2012-10-24 01:48:...|    Facebook|    Minas Gerais|         null|      663106|\n",
      "|   Florianópolis| 1199521|5764c7b7c75f30474...|2012-11-07 17:23:...|    Facebook|  Santa Catarina|         null|      664138|\n",
      "|        Mesquita| 1199517|4522694e98b51ba30...|2012-08-21 15:13:...|    Facebook|  Rio de Janeiro|         null|      664742|\n",
      "|        Londrina| 1199553|0360730b79c8ecd04...|2012-11-22 23:51:...|    Facebook|          Paraná|         null|      663609|\n",
      "|  Rio de Janeiro| 1199491|668514e190e792018...|2012-10-22 21:16:...|       Email|  Rio de Janeiro|         null|      664768|\n",
      "|      Ouro Preto| 1199536|7c743c3365d9b9696...|2012-10-24 16:28:...|    Facebook|    Minas Gerais|         null|      663054|\n",
      "|          Viçosa| 1199725|09e1497357395b825...|2012-10-15 21:34:...|    Facebook|    Minas Gerais|         null|      663065|\n",
      "|            null| 1199453|29037b0a52c5b576d...|2012-10-30 17:02:...|       Email|    Minas Gerais|         null|      664565|\n",
      "|   Volta Redonda| 1199701|9f3a457a426cae314...|2012-08-21 15:27:...|    Facebook|  Rio de Janeiro|         null|      665419|\n",
      "|            null| 1199461|f0ec48700197a23c4...|2012-10-15 21:34:...|    Facebook|            null|         null|      663065|\n",
      "|São João del Rei| 1199555|57e35f4dbe1f277de...|2012-09-18 09:53:...|    Facebook|    Minas Gerais|         null|      663106|\n",
      "|        Brasília| 1199536|5247dbaa0d6cac436...|2012-09-10 20:26:...|    Facebook|Distrito Federal|         null|      662926|\n",
      "|        Sorocaba| 1199553|603aec86462715af4...|2012-12-03 19:55:...|    Facebook|       São Paulo|         null|      664240|\n",
      "|            null| 1199741|7e7d6eb03294f5a7f...|2012-09-10 20:26:...|       Email|Distrito Federal|         null|      662926|\n",
      "| Poços de Caldas| 1199517|735218971fa78ff17...|2012-09-26 02:29:...|    Facebook|    Minas Gerais|         null|      663134|\n",
      "|      Uberlândia| 1199532|3c912e19c1203ff04...|2012-10-15 21:34:...|    Facebook|    Minas Gerais|         null|      663075|\n",
      "+----------------+--------+--------------------+--------------------+------------+----------------+-------------+------------+\n",
      "only showing top 20 rows\n",
      "\n"
     ]
    }
   ],
   "source": [
    "# - Usuários que acessaram\n",
    "dfStudents.printSchema()\n",
    "dfStudents.show()"
   ]
  },
  {
   "cell_type": "code",
   "execution_count": 7,
   "id": "suitable-holocaust",
   "metadata": {},
   "outputs": [
    {
     "name": "stdout",
     "output_type": "stream",
     "text": [
      "root\n",
      " |-- SessionStartTime: string (nullable = true)\n",
      " |-- StudentClient: string (nullable = true)\n",
      " |-- StudentId: string (nullable = true)\n",
      "\n",
      "+-------------------+-------------+--------------------+\n",
      "|   SessionStartTime|StudentClient|           StudentId|\n",
      "+-------------------+-------------+--------------------+\n",
      "|2017-11-18 15:47:33|      Website|0cade9bf00234e378...|\n",
      "|2017-11-20 22:21:13|      Website|0cade9bf00234e378...|\n",
      "|2017-11-20 22:35:31|      Website|0cade9bf00234e378...|\n",
      "|2017-11-20 23:35:46|      Website|0cade9bf00234e378...|\n",
      "|2017-11-23 21:24:00|      Website|0cade9bf00234e378...|\n",
      "|2017-11-24 02:08:08|      Website|0cade9bf00234e378...|\n",
      "|2017-11-13 13:12:49|      Website|8a501cab6c0a5a7e9...|\n",
      "|2017-11-06 21:34:45|      Website|b8a39150d98d74685...|\n",
      "|2017-11-20 15:26:09|      Website|b8a39150d98d74685...|\n",
      "|2017-11-20 21:40:32|      Website|b8a39150d98d74685...|\n",
      "|2017-11-28 21:40:03|      Website|b8a39150d98d74685...|\n",
      "|2017-11-02 11:04:17|      Website|0f6c90f966a70b84b...|\n",
      "|2017-11-03 14:19:56|      Website|0f6c90f966a70b84b...|\n",
      "|2017-11-06 11:59:36|      Website|0f6c90f966a70b84b...|\n",
      "|2017-11-09 15:09:56|      Website|0f6c90f966a70b84b...|\n",
      "|2017-11-15 14:37:10|      Website|0f6c90f966a70b84b...|\n",
      "|2017-11-20 22:27:53|      Website|0f6c90f966a70b84b...|\n",
      "|2017-11-21 17:38:22|      Website|388bf84cffb321938...|\n",
      "|2017-11-22 14:35:46|      Website|388bf84cffb321938...|\n",
      "|2017-11-06 20:33:29|      Website|5764c7b7c75f30474...|\n",
      "+-------------------+-------------+--------------------+\n",
      "only showing top 20 rows\n",
      "\n"
     ]
    }
   ],
   "source": [
    "# - Visitas que os usuários fizeram ao longo do mês\n",
    "## - Quantidade de visitas?\n",
    "dfSessions.printSchema()\n",
    "dfSessions.show()"
   ]
  },
  {
   "cell_type": "code",
   "execution_count": 9,
   "id": "progressive-nature",
   "metadata": {},
   "outputs": [
    {
     "name": "stdout",
     "output_type": "stream",
     "text": [
      "root\n",
      " |-- Id: long (nullable = true)\n",
      " |-- Name: string (nullable = true)\n",
      "\n",
      "+------+-----------+\n",
      "|    Id|       Name|\n",
      "+------+-----------+\n",
      "|664704|       UERJ|\n",
      "|661625|    PUC-RIO|\n",
      "|664768|     UNIRIO|\n",
      "|663106|       UFSJ|\n",
      "|664138|       UFSC|\n",
      "|664742|       UFRJ|\n",
      "|663609|     PUC-PR|\n",
      "|663054|       UFOP|\n",
      "|663065|        UFV|\n",
      "|664565|ESTÁCIO EAD|\n",
      "|665419|     UNIFOA|\n",
      "|662926|        UNB|\n",
      "|664240|     UFSCAR|\n",
      "|663134|  PUC-MINAS|\n",
      "|663075|        UFU|\n",
      "|664623|    ESTÁCIO|\n",
      "|665677|        UVV|\n",
      "|662981|        UFG|\n",
      "|663165|       UFMG|\n",
      "|662944|       UFES|\n",
      "+------+-----------+\n",
      "only showing top 20 rows\n",
      "\n"
     ]
    }
   ],
   "source": [
    "# - Lista de Universidades cadastradas\n",
    "dfUniversities.printSchema()\n",
    "dfUniversities.show()"
   ]
  },
  {
   "cell_type": "code",
   "execution_count": 10,
   "id": "utility-madonna",
   "metadata": {},
   "outputs": [
    {
     "name": "stdout",
     "output_type": "stream",
     "text": [
      "root\n",
      " |-- Id: long (nullable = true)\n",
      " |-- Name: string (nullable = true)\n",
      "\n",
      "+-------+--------------------+\n",
      "|     Id|                Name|\n",
      "+-------+--------------------+\n",
      "|1199555| Engenharia Elétrica|\n",
      "|1199521|Economia / Ciênci...|\n",
      "|1199517|             Direito|\n",
      "|1199491| Ciências Ambientais|\n",
      "|1199573|  Engenharia Química|\n",
      "|1199553|Engenharia de Pro...|\n",
      "|1199536|Engenharia Ambiental|\n",
      "|1199725|             Química|\n",
      "|1199453|       Administração|\n",
      "|1199701|         Odontologia|\n",
      "|1199461|           Agronomia|\n",
      "|1199741|      Serviço Social|\n",
      "|1199532|Engenharia Aeroná...|\n",
      "|1199544|    Engenharia Civil|\n",
      "|1199724|Comunicação Socia...|\n",
      "|1199704|           Pedagogia|\n",
      "|1199699|            Nutrição|\n",
      "|6495411|      Gestão Pública|\n",
      "|1199687|            Medicina|\n",
      "|1199734|Relações Internac...|\n",
      "+-------+--------------------+\n",
      "only showing top 20 rows\n",
      "\n"
     ]
    }
   ],
   "source": [
    "# - Lista de Cursos cadastrados\n",
    "dfCourses.printSchema()\n",
    "dfCourses.show()"
   ]
  },
  {
   "cell_type": "code",
   "execution_count": 11,
   "id": "great-cocktail",
   "metadata": {},
   "outputs": [
    {
     "name": "stdout",
     "output_type": "stream",
     "text": [
      "root\n",
      " |-- Id: long (nullable = true)\n",
      " |-- Name: string (nullable = true)\n",
      "\n",
      "+-------+--------------------+\n",
      "|     Id|                Name|\n",
      "+-------+--------------------+\n",
      "| 682889|       Eletrônica II|\n",
      "| 684377|Circuitos Elétric...|\n",
      "| 698583|          Eletrônica|\n",
      "| 757882|        Circuitos II|\n",
      "|1910475|Circuitos Elétric...|\n",
      "| 673956|Teoria Microeconô...|\n",
      "| 674245|       Econometria I|\n",
      "| 681478|     Microeconomia 2|\n",
      "| 681925|     Microeconomia 1|\n",
      "| 693487|Métodos Quantitat...|\n",
      "| 670492|Direito Administr...|\n",
      "| 671126|Direito Constituc...|\n",
      "| 686806|             Direito|\n",
      "| 689481|     Direito Civil I|\n",
      "|1663821|Extras (livros, C...|\n",
      "| 670937|   Direito Ambiental|\n",
      "| 671197|         Estatística|\n",
      "| 673846|            Ecologia|\n",
      "| 674226|    Geoprocessamento|\n",
      "| 695790|Sistemas de Infor...|\n",
      "+-------+--------------------+\n",
      "only showing top 20 rows\n",
      "\n"
     ]
    }
   ],
   "source": [
    "# - subjects.json - Lista de Disciplinas\n",
    "dfSubjects.printSchema()\n",
    "dfSubjects.show()"
   ]
  },
  {
   "cell_type": "code",
   "execution_count": 12,
   "id": "advised-vietnamese",
   "metadata": {},
   "outputs": [
    {
     "name": "stdout",
     "output_type": "stream",
     "text": [
      "root\n",
      " |-- FollowDate: string (nullable = true)\n",
      " |-- StudentId: string (nullable = true)\n",
      " |-- SubjectId: long (nullable = true)\n",
      "\n",
      "+--------------------+--------------------+---------+\n",
      "|          FollowDate|           StudentId|SubjectId|\n",
      "+--------------------+--------------------+---------+\n",
      "|2015-09-07 15:49:...|0cade9bf00234e378...|   682889|\n",
      "|2015-09-07 15:49:...|0cade9bf00234e378...|   684377|\n",
      "|2015-09-07 15:49:...|0cade9bf00234e378...|   698583|\n",
      "|2015-09-07 15:49:...|0cade9bf00234e378...|   757882|\n",
      "|2015-09-07 15:49:...|0cade9bf00234e378...|  1910475|\n",
      "|2015-12-07 16:17:...|8a501cab6c0a5a7e9...|   673956|\n",
      "|2015-12-07 16:17:...|8a501cab6c0a5a7e9...|   674245|\n",
      "|2015-12-07 16:17:...|8a501cab6c0a5a7e9...|   681478|\n",
      "|2015-12-07 16:17:...|8a501cab6c0a5a7e9...|   681925|\n",
      "|2015-12-07 16:17:...|8a501cab6c0a5a7e9...|   693487|\n",
      "|2016-05-30 10:31:...|b8a39150d98d74685...|   670492|\n",
      "|2016-05-30 10:31:...|b8a39150d98d74685...|   671126|\n",
      "|2016-05-30 10:31:...|b8a39150d98d74685...|   686806|\n",
      "|2016-05-30 10:31:...|b8a39150d98d74685...|   689481|\n",
      "|2016-05-30 10:31:...|b8a39150d98d74685...|  1663821|\n",
      "|2017-11-03 12:23:...|0f6c90f966a70b84b...|   670937|\n",
      "|2016-04-01 20:22:...|0f6c90f966a70b84b...|   671197|\n",
      "|2017-11-03 12:23:...|0f6c90f966a70b84b...|   673846|\n",
      "|2016-04-01 20:22:...|0f6c90f966a70b84b...|   674226|\n",
      "|2016-04-01 20:22:...|0f6c90f966a70b84b...|   695790|\n",
      "+--------------------+--------------------+---------+\n",
      "only showing top 20 rows\n",
      "\n"
     ]
    }
   ],
   "source": [
    "# - Disciplinas que cada usuário está seguindo\n",
    "dfStudentFollow_subject.printSchema()\n",
    "dfStudentFollow_subject.show()"
   ]
  },
  {
   "cell_type": "markdown",
   "id": "acknowledged-facial",
   "metadata": {},
   "source": [
    "# Montando a Tabela Cadastro\n",
    "\n",
    "## Tabela base para análise de perfil dos usuários.\n",
    "\n",
    "### Table Name: bi.cadastro\n",
    "\n",
    "#### Qual região é mais acessada?\n",
    "#### Por qual canal é mais acessado?\n",
    "#### Qual universidade/ curso tem mais acessos?"
   ]
  },
  {
   "cell_type": "code",
   "execution_count": 23,
   "id": "egyptian-design",
   "metadata": {},
   "outputs": [],
   "source": [
    "#Table Name: bi.cadastro\n",
    "dfCadastro = dfStudents.alias(\"students\")\\\n",
    "    .join(dfUniversities.alias(\"universities\"),\n",
    "            trim(col(\"students.UniversityId\")) == trim(col(\"universities.Id\")),\n",
    "            how = \"inner\"\n",
    "         )\\\n",
    "    .join(dfCourses.alias(\"courses\"),\n",
    "            trim(col(\"students.CourseId\")) == trim(col(\"courses.Id\")),\n",
    "            how = \"inner\"\n",
    "         )\\\n",
    ".select(\n",
    "        col(\"students.Id\").alias(\"students_id\"),\n",
    "        col(\"students.State\").alias(\"students_state\"),\n",
    "        col(\"students.City\").alias(\"students_city\"),\n",
    "        col(\"students.SignupSource\").alias(\"students_signup_source\"),\n",
    "        col(\"students.StudentClient\").alias(\"students_student_client\"),\n",
    "        col(\"students.RegisteredDate\").alias(\"students_registered_date\"),\n",
    "        col(\"universities.Id\").alias(\"universities_id\"),\n",
    "        col(\"universities.Name\").alias(\"universities_name\"),\n",
    "        col(\"students.CourseId\").alias(\"courses_id\"),\n",
    "        col(\"courses.Name\").alias(\"courses_name\"),\n",
    "        current_timestamp().alias(\"ts_processamento\"),\n",
    "        lit(\"2017-11\").alias(\"pt_ano_mes_referencia\")\n",
    "       ).distinct()"
   ]
  },
  {
   "cell_type": "code",
   "execution_count": 24,
   "id": "conceptual-tiffany",
   "metadata": {},
   "outputs": [
    {
     "name": "stdout",
     "output_type": "stream",
     "text": [
      "root\n",
      " |-- students_id: string (nullable = true)\n",
      " |-- students_state: string (nullable = true)\n",
      " |-- students_city: string (nullable = true)\n",
      " |-- students_signup_source: string (nullable = true)\n",
      " |-- students_student_client: string (nullable = true)\n",
      " |-- students_registered_date: string (nullable = true)\n",
      " |-- universities_id: long (nullable = true)\n",
      " |-- universities_name: string (nullable = true)\n",
      " |-- courses_id: long (nullable = true)\n",
      " |-- courses_name: string (nullable = true)\n",
      " |-- ts_processamento: timestamp (nullable = false)\n",
      " |-- pt_ano_mes_referencia: string (nullable = false)\n",
      "\n"
     ]
    }
   ],
   "source": [
    "dfCadastro.printSchema()"
   ]
  },
  {
   "cell_type": "code",
   "execution_count": 25,
   "id": "another-kazakhstan",
   "metadata": {},
   "outputs": [
    {
     "name": "stdout",
     "output_type": "stream",
     "text": [
      "+--------------------+-------------------+--------------+----------------------+-----------------------+------------------------+---------------+-----------------+----------+--------------------+--------------------+---------------------+\n",
      "|         students_id|     students_state| students_city|students_signup_source|students_student_client|students_registered_date|universities_id|universities_name|courses_id|        courses_name|    ts_processamento|pt_ano_mes_referencia|\n",
      "+--------------------+-------------------+--------------+----------------------+-----------------------+------------------------+---------------+-----------------+----------+--------------------+--------------------+---------------------+\n",
      "|32a67b23002c18c32...|              Ceará|     Fortaleza|              Facebook|                   null|    2013-06-23 21:59:...|         664623|          ESTÁCIO|   1199453|       Administração|2021-03-28 18:40:...|              2017-11|\n",
      "|27d36212707731bbe...|       Minas Gerais|Belo Horizonte|              Facebook|                   null|    2013-07-11 18:13:...|         665162|     NEWTON PAIVA|   1199553|Engenharia de Pro...|2021-03-28 18:40:...|              2017-11|\n",
      "|0bedd2549c73c94df...|              Bahia|      Salvador|              Facebook|                   null|    2013-07-11 18:13:...|         662801|             UFBA|   1199727|Química e Engenha...|2021-03-28 18:40:...|              2017-11|\n",
      "|439b8aa1192423c04...|          São Paulo|     São Paulo|              Facebook|                   null|    2013-09-14 12:26:...|         664331|         UNIMONTE|   1199517|             Direito|2021-03-28 18:40:...|              2017-11|\n",
      "|dda5851d67df9d5bb...|              Bahia|      Camaçari|                 Email|                   null|    2013-10-01 15:26:...|         662801|             UFBA|   1199517|             Direito|2021-03-28 18:40:...|              2017-11|\n",
      "|c47a99e8259a4ff67...|             Paraná|          null|              Facebook|                   null|    2013-10-09 22:39:...|         664060|            UDESC|   1199555| Engenharia Elétrica|2021-03-28 18:40:...|              2017-11|\n",
      "|ab53ffac361e7bbe8...|  Rio Grande do Sul|          null|                 Email|                   null|    2013-10-15 23:37:...|         663928|              URI|   1199544|    Engenharia Civil|2021-03-28 18:40:...|              2017-11|\n",
      "|4a04a3ddd18a19f84...|               null|          null|              Facebook|                   null|    2013-10-24 15:24:...|         663985|          FCMS/JF|   1199687|            Medicina|2021-03-28 18:40:...|              2017-11|\n",
      "|2ba9b6aa32c6df8b5...|       Minas Gerais|          null|                 Email|                   null|    2013-11-06 20:58:...|         663205|            UFVJM|   1510525|Ciências Exatas e...|2021-03-28 18:40:...|              2017-11|\n",
      "|a90017700be972f6c...|           Maranhão|          null|                 Email|                   null|    2013-11-15 19:30:...|         662269|             UNDB|   1199517|             Direito|2021-03-28 18:40:...|              2017-11|\n",
      "|e2ed116d20c02ecb9...|Rio Grande do Norte|       Mossoró|              Facebook|                   null|    2013-11-16 18:33:...|         663775|              UNP|   1199553|Engenharia de Pro...|2021-03-28 18:40:...|              2017-11|\n",
      "|2ca63d7ce3eaf135d...|     Rio de Janeiro|Rio de Janeiro|              Facebook|                   null|    2013-11-25 12:40:...|         664822|             IFRJ|   1944927|Química de Alimentos|2021-03-28 18:40:...|              2017-11|\n",
      "|207f1fca4f28ded16...|     Rio de Janeiro|Rio de Janeiro|              Facebook|                   null|    2013-11-26 23:34:...|         664623|          ESTÁCIO|   1199701|         Odontologia|2021-03-28 18:40:...|              2017-11|\n",
      "|584dd1972e5f26744...|               null|          null|              Facebook|                   null|    2013-12-12 19:12:...|         664418|          UNINOVE|   1199517|             Direito|2021-03-28 18:40:...|              2017-11|\n",
      "|ed4bdb83d3ae49ae7...|               null|          null|              Facebook|                   null|    2014-01-14 10:29:...|         663650|           UNIPAR|   1199517|             Direito|2021-03-28 18:40:...|              2017-11|\n",
      "|f0192601dba7a9c4e...|       Minas Gerais|Belo Horizonte|                 Email|                Website|    2014-03-01 11:55:...|         663165|             UFMG|   1199453|       Administração|2021-03-28 18:40:...|              2017-11|\n",
      "|c35096d0f8ac8abb9...|          São Paulo|Ribeirão Pires|                 Email|                Website|    2014-03-04 14:14:...|         663246|        TIJUCUSSU|   1199517|             Direito|2021-03-28 18:40:...|              2017-11|\n",
      "|110aaceb47191de96...|               null|          null|                 Email|                Website|    2014-03-12 14:23:...|         663946|            ULBRA|   1199544|    Engenharia Civil|2021-03-28 18:40:...|              2017-11|\n",
      "|4458bef99de0c938f...|           Maranhão|      São Luís|              Facebook|                Website|    2014-03-18 22:40:...|         664623|          ESTÁCIO|   1199517|             Direito|2021-03-28 18:40:...|              2017-11|\n",
      "|5d64bea4031cb8475...|Rio Grande do Norte|         Natal|              Facebook|                Website|    2014-03-28 13:40:...|         663754|             UFRN|   1199544|    Engenharia Civil|2021-03-28 18:40:...|              2017-11|\n",
      "+--------------------+-------------------+--------------+----------------------+-----------------------+------------------------+---------------+-----------------+----------+--------------------+--------------------+---------------------+\n",
      "only showing top 20 rows\n",
      "\n"
     ]
    }
   ],
   "source": [
    "dfCadastro.show()"
   ]
  },
  {
   "cell_type": "code",
   "execution_count": 44,
   "id": "instant-harvard",
   "metadata": {},
   "outputs": [],
   "source": [
    "#Qual região é mais acessada, agrupada por ano e mês.\n",
    "#Table Name: bi.qtd_acesso_regiao\n",
    "dfQtdRegiao = dfCadastro\\\n",
    ".groupBy(\"students_state\",\n",
    "        \"pt_ano_mes_referencia\")\\\n",
    ".count()\\\n",
    ".withColumnRenamed(\"count\", \"qtd\")\\\n",
    ".orderBy(desc(\"qtd\"))\\\n",
    ".select(\"students_state\",\n",
    "       \"qtd\",\n",
    "       \"pt_ano_mes_referencia\")"
   ]
  },
  {
   "cell_type": "code",
   "execution_count": 45,
   "id": "alien-alaska",
   "metadata": {},
   "outputs": [
    {
     "name": "stdout",
     "output_type": "stream",
     "text": [
      "root\n",
      " |-- students_state: string (nullable = true)\n",
      " |-- qtd: long (nullable = false)\n",
      " |-- pt_ano_mes_referencia: string (nullable = false)\n",
      "\n"
     ]
    }
   ],
   "source": [
    "dfQtdRegiao.printSchema()"
   ]
  },
  {
   "cell_type": "code",
   "execution_count": 46,
   "id": "elder-attachment",
   "metadata": {},
   "outputs": [
    {
     "name": "stdout",
     "output_type": "stream",
     "text": [
      "+-------------------+-----+---------------------+\n",
      "|     students_state|  qtd|pt_ano_mes_referencia|\n",
      "+-------------------+-----+---------------------+\n",
      "|               null|35393|              2017-11|\n",
      "|     Rio de Janeiro| 5168|              2017-11|\n",
      "|          São Paulo| 3870|              2017-11|\n",
      "|       Minas Gerais| 2417|              2017-11|\n",
      "|             Paraná| 1438|              2017-11|\n",
      "|              Bahia| 1354|              2017-11|\n",
      "|              Ceará| 1236|              2017-11|\n",
      "|  Rio Grande do Sul| 1192|              2017-11|\n",
      "|         Pernambuco|  954|              2017-11|\n",
      "|     Santa Catarina|  876|              2017-11|\n",
      "|              Goiás|  815|              2017-11|\n",
      "|     Espírito Santo|  595|              2017-11|\n",
      "|               Pará|  526|              2017-11|\n",
      "|           Maranhão|  507|              2017-11|\n",
      "|            Sergipe|  427|              2017-11|\n",
      "| Mato Grosso do Sul|  421|              2017-11|\n",
      "|   Distrito Federal|  385|              2017-11|\n",
      "|Rio Grande do Norte|  367|              2017-11|\n",
      "|            Paraíba|  345|              2017-11|\n",
      "|           Amazonas|  342|              2017-11|\n",
      "+-------------------+-----+---------------------+\n",
      "only showing top 20 rows\n",
      "\n"
     ]
    }
   ],
   "source": [
    "dfQtdRegiao.show()"
   ]
  },
  {
   "cell_type": "code",
   "execution_count": 51,
   "id": "temporal-swing",
   "metadata": {},
   "outputs": [],
   "source": [
    "#Por qual canal é mais acessado, por região?\n",
    "#Table Name: bi.qtd_acesso_canal_regiao\n",
    "\n",
    "dfQtdCanal = dfCadastro\\\n",
    ".groupBy(\"students_state\",\n",
    "         \"students_student_client\",\n",
    "        \"pt_ano_mes_referencia\"\n",
    "        )\\\n",
    ".count()\\\n",
    ".withColumnRenamed(\"count\", \"qtd\")\\\n",
    ".orderBy(desc(\"qtd\"))\\\n",
    ".select(\n",
    "    \"students_state\",\n",
    "    \"students_student_client\",\n",
    "       \"qtd\",\n",
    "       \"pt_ano_mes_referencia\")"
   ]
  },
  {
   "cell_type": "code",
   "execution_count": 53,
   "id": "distinct-arrow",
   "metadata": {},
   "outputs": [
    {
     "name": "stdout",
     "output_type": "stream",
     "text": [
      "root\n",
      " |-- students_state: string (nullable = true)\n",
      " |-- students_student_client: string (nullable = true)\n",
      " |-- qtd: long (nullable = false)\n",
      " |-- pt_ano_mes_referencia: string (nullable = false)\n",
      "\n"
     ]
    }
   ],
   "source": [
    "dfQtdCanal.printSchema()"
   ]
  },
  {
   "cell_type": "code",
   "execution_count": 54,
   "id": "lasting-nelson",
   "metadata": {},
   "outputs": [
    {
     "name": "stdout",
     "output_type": "stream",
     "text": [
      "+-----------------+-----------------------+-----+---------------------+\n",
      "|   students_state|students_student_client|  qtd|pt_ano_mes_referencia|\n",
      "+-----------------+-----------------------+-----+---------------------+\n",
      "|             null|                Website|23286|              2017-11|\n",
      "|   Rio de Janeiro|                Website| 2947|              2017-11|\n",
      "|        São Paulo|                Website| 2561|              2017-11|\n",
      "|             null|                 Webapp| 2405|              2017-11|\n",
      "|             null|                   null| 2100|              2017-11|\n",
      "|             null|   Android | 6.0.1 |...| 1896|              2017-11|\n",
      "|     Minas Gerais|                Website| 1481|              2017-11|\n",
      "|   Rio de Janeiro|                   null| 1412|              2017-11|\n",
      "|             null|   Android | 7.0 | s...|  942|              2017-11|\n",
      "|           Paraná|                Website|  928|              2017-11|\n",
      "|             null|   Android | 6.0 | s...|  845|              2017-11|\n",
      "|            Bahia|                Website|  823|              2017-11|\n",
      "|        São Paulo|                   null|  811|              2017-11|\n",
      "|Rio Grande do Sul|                Website|  784|              2017-11|\n",
      "|            Ceará|                Website|  712|              2017-11|\n",
      "|     Minas Gerais|                   null|  695|              2017-11|\n",
      "|   Santa Catarina|                Website|  585|              2017-11|\n",
      "|       Pernambuco|                Website|  553|              2017-11|\n",
      "|             null|   Android | 5.1.1 |...|  517|              2017-11|\n",
      "|            Goiás|                Website|  510|              2017-11|\n",
      "+-----------------+-----------------------+-----+---------------------+\n",
      "only showing top 20 rows\n",
      "\n"
     ]
    }
   ],
   "source": [
    "dfQtdCanal.show()"
   ]
  },
  {
   "cell_type": "markdown",
   "id": "moving-dominant",
   "metadata": {},
   "source": [
    "# Montando a Dimensão subject_user\n",
    "\n",
    "### Tabelas: bi.subject_user e bi.qtd_subject_user"
   ]
  },
  {
   "cell_type": "markdown",
   "id": "southwest-transcript",
   "metadata": {},
   "source": [
    "## Table name: bi.subject_user\n",
    "\n",
    "### Poderá ser analisado as disciplinas mais seguidas por cada usuário\n",
    "\n",
    "#### Alimentação diária por data do arquivo"
   ]
  },
  {
   "cell_type": "code",
   "execution_count": 59,
   "id": "middle-judges",
   "metadata": {},
   "outputs": [],
   "source": [
    "#Table Name: bi.subject_user\n",
    "dfSubjectsUser = dfSubjects.alias(\"disc\")\\\n",
    "    .join(dfStudentFollow_subject.alias(\"disc_user\"),\n",
    "          trim(col(\"disc.Id\")) == trim(col(\"disc_user.SubjectId\")),\n",
    "          how = \"left\"\n",
    "         )\\\n",
    ".select(\n",
    "        col(\"disc.Id\").alias(\"subjects_id\"),\n",
    "        col(\"disc.Name\").alias(\"subjects_name\"),\n",
    "        col(\"disc_user.FollowDate\").alias(\"subjects_follow_date\"),\n",
    "        col(\"disc_user.StudentId\").alias(\"student_id\"),\n",
    "        current_timestamp().alias(\"ts_processamento\"),\n",
    "        lit(\"2017-11\").alias(\"pt_ano_mes_referencia\") #Data da partição eu usaria data do nome do arquivo ou ano_nês..\n",
    "       )"
   ]
  },
  {
   "cell_type": "code",
   "execution_count": 56,
   "id": "awful-methodology",
   "metadata": {},
   "outputs": [
    {
     "name": "stdout",
     "output_type": "stream",
     "text": [
      "root\n",
      " |-- subjects_id: long (nullable = true)\n",
      " |-- subjects_name: string (nullable = true)\n",
      " |-- subjects_follow_date: string (nullable = true)\n",
      " |-- student_id: string (nullable = true)\n",
      " |-- ts_processamento: timestamp (nullable = false)\n",
      " |-- pt_ano_mes_referencia: string (nullable = false)\n",
      "\n"
     ]
    }
   ],
   "source": [
    "dfSubjectsUser.printSchema()"
   ]
  },
  {
   "cell_type": "code",
   "execution_count": 60,
   "id": "authentic-activation",
   "metadata": {},
   "outputs": [
    {
     "name": "stdout",
     "output_type": "stream",
     "text": [
      "+-----------+--------------------+--------------------+--------------------+--------------------+---------------------+\n",
      "|subjects_id|       subjects_name|subjects_follow_date|          student_id|    ts_processamento|pt_ano_mes_referencia|\n",
      "+-----------+--------------------+--------------------+--------------------+--------------------+---------------------+\n",
      "|    1190352|Piscicultura e Ra...|2017-11-30 01:09:...|0cb72964a442c2f08...|2021-03-28 19:17:...|              2017-11|\n",
      "|    1214010|Bases da Cultura ...|2015-09-13 21:18:...|6836b06beaaa7cc1e...|2021-03-28 19:17:...|              2017-11|\n",
      "|    1214010|Bases da Cultura ...|2017-06-23 14:40:...|888b761f9be4f9e7c...|2021-03-28 19:17:...|              2017-11|\n",
      "|    1485777|Exames Hematológi...|2016-04-27 00:47:...|db681c210ffb150c9...|2021-03-28 19:17:...|              2017-11|\n",
      "|    1485777|Exames Hematológi...|2017-05-14 22:56:...|869f5faae5dc132d2...|2021-03-28 19:17:...|              2017-11|\n",
      "|    1485777|Exames Hematológi...|2017-09-01 19:41:...|42ca8756348976afd...|2021-03-28 19:17:...|              2017-11|\n",
      "|    1485777|Exames Hematológi...|2015-09-27 11:24:...|754ca68a4414af257...|2021-03-28 19:17:...|              2017-11|\n",
      "|    1505509|  Higiene e Inspeção|2017-05-31 13:17:...|8075da88376651f9a...|2021-03-28 19:17:...|              2017-11|\n",
      "|    1505509|  Higiene e Inspeção|2017-10-27 12:25:...|6a80d1b9f1ade3b0c...|2021-03-28 19:17:...|              2017-11|\n",
      "|    1505509|  Higiene e Inspeção|2017-08-14 19:59:...|1f9b30a864061321d...|2021-03-28 19:17:...|              2017-11|\n",
      "|    1507765|          Volumetria|2017-10-10 12:47:...|66d44f3e5b0a4f725...|2021-03-28 19:17:...|              2017-11|\n",
      "|    1507781|Fundamentos de Pr...|2016-03-28 20:08:...|334c55fde8f9e38ae...|2021-03-28 19:17:...|              2017-11|\n",
      "|    1507781|Fundamentos de Pr...|2017-08-16 14:00:...|7cc2cd70f6252ea5b...|2021-03-28 19:17:...|              2017-11|\n",
      "|    1507781|Fundamentos de Pr...|2017-09-19 08:44:...|6b9e8fb4225e152ba...|2021-03-28 19:17:...|              2017-11|\n",
      "|    1510540|            Farmácia|2017-07-21 15:04:...|21e4bac8714edf712...|2021-03-28 19:17:...|              2017-11|\n",
      "|    1510540|            Farmácia|2016-10-07 12:51:...|640a80e55245f64fb...|2021-03-28 19:17:...|              2017-11|\n",
      "|    1510540|            Farmácia|2016-10-16 22:25:...|b8e262aa3756e3011...|2021-03-28 19:17:...|              2017-11|\n",
      "|    1510540|            Farmácia|2016-09-25 15:10:...|c952d27aac489af40...|2021-03-28 19:17:...|              2017-11|\n",
      "|    1510540|            Farmácia|2017-11-16 22:58:...|38cd46815aada7efd...|2021-03-28 19:17:...|              2017-11|\n",
      "|    1510540|            Farmácia|2016-03-25 19:48:...|9fa9b43a469e889cc...|2021-03-28 19:17:...|              2017-11|\n",
      "+-----------+--------------------+--------------------+--------------------+--------------------+---------------------+\n",
      "only showing top 20 rows\n",
      "\n"
     ]
    }
   ],
   "source": [
    "#Conhecendo a base\n",
    "dfSubjectsUser\\\n",
    ".show()"
   ]
  },
  {
   "cell_type": "markdown",
   "id": "adverse-release",
   "metadata": {},
   "source": [
    "## Table name: bi.qtd_subject_user\n",
    "#### Quais são as disciplinas mais acessadas ao longo do mês?\n",
    "#### Alimentação diária por ano e mês"
   ]
  },
  {
   "cell_type": "code",
   "execution_count": 74,
   "id": "curious-silver",
   "metadata": {},
   "outputs": [],
   "source": [
    "#Table Name: bi.qtd_subject_user\n",
    "dfQtdDisc = dfSubjectsUser\\\n",
    ".groupBy(\"pt_ano_mes_referencia\",\n",
    "         \"subjects_id\", \n",
    "         \"subjects_name\")\\\n",
    ".count()\\\n",
    ".withColumnRenamed(\"count\", \"qtd\")\\\n",
    ".orderBy(\"pt_ano_mes_referencia\", \n",
    "         desc(\"qtd\"))\\\n",
    ".withColumn(\"ts_processamento\", current_timestamp())\\\n",
    ".select(\"subjects_id\",\n",
    "       \"subjects_name\",\n",
    "        \"qtd\",\n",
    "        \"ts_processamento\",\n",
    "       \"pt_ano_mes_referencia\")"
   ]
  },
  {
   "cell_type": "code",
   "execution_count": 75,
   "id": "agreed-physiology",
   "metadata": {
    "scrolled": true
   },
   "outputs": [
    {
     "name": "stdout",
     "output_type": "stream",
     "text": [
      "root\n",
      " |-- subjects_id: long (nullable = true)\n",
      " |-- subjects_name: string (nullable = true)\n",
      " |-- qtd: long (nullable = false)\n",
      " |-- ts_processamento: timestamp (nullable = false)\n",
      " |-- pt_ano_mes_referencia: string (nullable = false)\n",
      "\n"
     ]
    }
   ],
   "source": [
    "dfQtdDisc.printSchema()"
   ]
  },
  {
   "cell_type": "code",
   "execution_count": 76,
   "id": "continent-slovakia",
   "metadata": {
    "scrolled": true
   },
   "outputs": [
    {
     "name": "stdout",
     "output_type": "stream",
     "text": [
      "+-----------+--------------------+----+--------------------+---------------------+\n",
      "|subjects_id|       subjects_name| qtd|    ts_processamento|pt_ano_mes_referencia|\n",
      "+-----------+--------------------+----+--------------------+---------------------+\n",
      "|     671154|          Bioquímica|4223|2021-03-28 19:24:...|              2017-11|\n",
      "|     669699|           Cálculo I|4053|2021-03-28 19:24:...|              2017-11|\n",
      "|     670780|     Anatomia Humana|3950|2021-03-28 19:24:...|              2017-11|\n",
      "|     671126|Direito Constituc...|3926|2021-03-28 19:24:...|              2017-11|\n",
      "|     669660|Matemática Financ...|3405|2021-03-28 19:24:...|              2017-11|\n",
      "|     669796|            Física I|3023|2021-03-28 19:24:...|              2017-11|\n",
      "|     676833|     Direito Penal I|2956|2021-03-28 19:24:...|              2017-11|\n",
      "|     680401|   Fisiologia Humana|2906|2021-03-28 19:24:...|              2017-11|\n",
      "|     676780|Direito Constituc...|2857|2021-03-28 19:24:...|              2017-11|\n",
      "|     672228|Direito Processua...|2574|2021-03-28 19:24:...|              2017-11|\n",
      "|     669744|          Cálculo II|2537|2021-03-28 19:24:...|              2017-11|\n",
      "|     670592|Cálculo Diferenci...|2457|2021-03-28 19:24:...|              2017-11|\n",
      "|     669454|Resistência dos M...|2365|2021-03-28 19:24:...|              2017-11|\n",
      "|     671086|            Genética|2275|2021-03-28 19:24:...|              2017-11|\n",
      "|     672547|        Farmacologia|2240|2021-03-28 19:24:...|              2017-11|\n",
      "|     670384|      Mecânica Geral|2147|2021-03-28 19:24:...|              2017-11|\n",
      "|     675399|Metodologia Cient...|2135|2021-03-28 19:24:...|              2017-11|\n",
      "|     682100|       Administração|2128|2021-03-28 19:24:...|              2017-11|\n",
      "|     689481|     Direito Civil I|2087|2021-03-28 19:24:...|              2017-11|\n",
      "|     670819|Direito Administr...|2075|2021-03-28 19:24:...|              2017-11|\n",
      "+-----------+--------------------+----+--------------------+---------------------+\n",
      "only showing top 20 rows\n",
      "\n"
     ]
    }
   ],
   "source": [
    "#Conhecendo a base\n",
    "dfQtdDisc.show()"
   ]
  },
  {
   "cell_type": "markdown",
   "id": "academic-programming",
   "metadata": {},
   "source": [
    "# Montando a Dimensão sessions\n",
    "### Tabelas: bi.sessions e bi.qtd_sessions"
   ]
  },
  {
   "cell_type": "markdown",
   "id": "intermediate-lotus",
   "metadata": {},
   "source": [
    "## Table name: bi.sessions\n",
    "\n",
    "### Tabela base para análise comportamental dos usuários.\n",
    "#### Qual StudentClient e data são mais acessados?\n",
    "##### Alimentação diária por data do arquivo, partição ano_mês"
   ]
  },
  {
   "cell_type": "code",
   "execution_count": 96,
   "id": "major-nowhere",
   "metadata": {},
   "outputs": [],
   "source": [
    "#Table Name: bi.sessions\n",
    "dfSessions = dfSessions\\\n",
    ".withColumn(\"ts_processamento\", current_timestamp())\\\n",
    " .withColumn(\"pt_ano_mes_referencia\", substring(to_date(\"SessionStartTime\"),  1, 7))"
   ]
  },
  {
   "cell_type": "code",
   "execution_count": 97,
   "id": "conceptual-castle",
   "metadata": {},
   "outputs": [
    {
     "name": "stdout",
     "output_type": "stream",
     "text": [
      "root\n",
      " |-- SessionStartTime: string (nullable = true)\n",
      " |-- StudentClient: string (nullable = true)\n",
      " |-- StudentId: string (nullable = true)\n",
      " |-- ts_processamento: timestamp (nullable = false)\n",
      " |-- pt_ano_mes_referencia: string (nullable = true)\n",
      "\n"
     ]
    }
   ],
   "source": [
    "dfSessions.printSchema()"
   ]
  },
  {
   "cell_type": "code",
   "execution_count": 98,
   "id": "healthy-maximum",
   "metadata": {},
   "outputs": [
    {
     "name": "stdout",
     "output_type": "stream",
     "text": [
      "+-------------------+-------------+--------------------+--------------------+---------------------+\n",
      "|   SessionStartTime|StudentClient|           StudentId|    ts_processamento|pt_ano_mes_referencia|\n",
      "+-------------------+-------------+--------------------+--------------------+---------------------+\n",
      "|2017-11-18 15:47:33|      Website|0cade9bf00234e378...|2021-03-28 19:34:...|              2017-11|\n",
      "|2017-11-20 22:21:13|      Website|0cade9bf00234e378...|2021-03-28 19:34:...|              2017-11|\n",
      "|2017-11-20 22:35:31|      Website|0cade9bf00234e378...|2021-03-28 19:34:...|              2017-11|\n",
      "|2017-11-20 23:35:46|      Website|0cade9bf00234e378...|2021-03-28 19:34:...|              2017-11|\n",
      "|2017-11-23 21:24:00|      Website|0cade9bf00234e378...|2021-03-28 19:34:...|              2017-11|\n",
      "|2017-11-24 02:08:08|      Website|0cade9bf00234e378...|2021-03-28 19:34:...|              2017-11|\n",
      "|2017-11-13 13:12:49|      Website|8a501cab6c0a5a7e9...|2021-03-28 19:34:...|              2017-11|\n",
      "|2017-11-06 21:34:45|      Website|b8a39150d98d74685...|2021-03-28 19:34:...|              2017-11|\n",
      "|2017-11-20 15:26:09|      Website|b8a39150d98d74685...|2021-03-28 19:34:...|              2017-11|\n",
      "|2017-11-20 21:40:32|      Website|b8a39150d98d74685...|2021-03-28 19:34:...|              2017-11|\n",
      "|2017-11-28 21:40:03|      Website|b8a39150d98d74685...|2021-03-28 19:34:...|              2017-11|\n",
      "|2017-11-02 11:04:17|      Website|0f6c90f966a70b84b...|2021-03-28 19:34:...|              2017-11|\n",
      "|2017-11-03 14:19:56|      Website|0f6c90f966a70b84b...|2021-03-28 19:34:...|              2017-11|\n",
      "|2017-11-06 11:59:36|      Website|0f6c90f966a70b84b...|2021-03-28 19:34:...|              2017-11|\n",
      "|2017-11-09 15:09:56|      Website|0f6c90f966a70b84b...|2021-03-28 19:34:...|              2017-11|\n",
      "|2017-11-15 14:37:10|      Website|0f6c90f966a70b84b...|2021-03-28 19:34:...|              2017-11|\n",
      "|2017-11-20 22:27:53|      Website|0f6c90f966a70b84b...|2021-03-28 19:34:...|              2017-11|\n",
      "|2017-11-21 17:38:22|      Website|388bf84cffb321938...|2021-03-28 19:34:...|              2017-11|\n",
      "|2017-11-22 14:35:46|      Website|388bf84cffb321938...|2021-03-28 19:34:...|              2017-11|\n",
      "|2017-11-06 20:33:29|      Website|5764c7b7c75f30474...|2021-03-28 19:34:...|              2017-11|\n",
      "+-------------------+-------------+--------------------+--------------------+---------------------+\n",
      "only showing top 20 rows\n",
      "\n"
     ]
    }
   ],
   "source": [
    "dfSessions.show()"
   ]
  },
  {
   "cell_type": "markdown",
   "id": "satellite-immunology",
   "metadata": {},
   "source": [
    "## Table name: bi.qtd_sessions_users\n",
    "#### #Quais estudantes mais acessam? Agrupamento por data. \n",
    "#### Alimentação diária por ano e mês"
   ]
  },
  {
   "cell_type": "code",
   "execution_count": 301,
   "id": "split-feeding",
   "metadata": {},
   "outputs": [],
   "source": [
    "#Qual StudentClient e data são mais acessados?\n",
    "#Table Name: bi.qtd_sessions_users\n",
    "dfQtdSessionsUsers = dfSessions\\\n",
    ".groupBy(to_date(\"SessionStartTime\").alias(\"date\"),\n",
    "        \"StudentId\")\\\n",
    ".count()\\\n",
    ".withColumnRenamed(\"count\", \"qtd\")\\\n",
    ".orderBy(desc(\"qtd\"))\\\n",
    ".withColumn(\"ts_processamento\", current_timestamp())\\\n",
    ".withColumn(\"pt_ano_mes_referencia\", substring(to_date(\"date\"),  1, 7))"
   ]
  },
  {
   "cell_type": "code",
   "execution_count": 302,
   "id": "daily-forest",
   "metadata": {},
   "outputs": [
    {
     "name": "stdout",
     "output_type": "stream",
     "text": [
      "root\n",
      " |-- date: date (nullable = true)\n",
      " |-- StudentId: string (nullable = true)\n",
      " |-- qtd: long (nullable = false)\n",
      " |-- ts_processamento: timestamp (nullable = false)\n",
      " |-- pt_ano_mes_referencia: string (nullable = true)\n",
      "\n"
     ]
    }
   ],
   "source": [
    "dfQtdSessionsUsers.printSchema()"
   ]
  },
  {
   "cell_type": "code",
   "execution_count": 303,
   "id": "negative-appendix",
   "metadata": {},
   "outputs": [
    {
     "name": "stdout",
     "output_type": "stream",
     "text": [
      "+----------+--------------------+---+--------------------+---------------------+\n",
      "|      date|           StudentId|qtd|    ts_processamento|pt_ano_mes_referencia|\n",
      "+----------+--------------------+---+--------------------+---------------------+\n",
      "|2017-11-22|efbb2450d87831fe3...|948|2021-03-28 23:49:...|              2017-11|\n",
      "|2017-11-24|53a9a87d540030b2b...|918|2021-03-28 23:49:...|              2017-11|\n",
      "|2017-11-22|1374456fffa9f1373...|802|2021-03-28 23:49:...|              2017-11|\n",
      "|2017-11-22|8e12fc20b0e06589d...|606|2021-03-28 23:49:...|              2017-11|\n",
      "|2017-11-22|96b110d5d80e81359...|575|2021-03-28 23:49:...|              2017-11|\n",
      "|2017-11-22|1060f13f2ae2f1df2...|457|2021-03-28 23:49:...|              2017-11|\n",
      "|2017-11-22|59b6af9a36f0fe891...|345|2021-03-28 23:49:...|              2017-11|\n",
      "|2017-11-29|06038eb332fb0ec91...|330|2021-03-28 23:49:...|              2017-11|\n",
      "|2017-11-22|06c59ff3c83314594...|292|2021-03-28 23:49:...|              2017-11|\n",
      "|2017-11-22|e2dedde2c68fc63a6...|280|2021-03-28 23:49:...|              2017-11|\n",
      "|2017-11-22|be64d66f3c3f7a057...|274|2021-03-28 23:49:...|              2017-11|\n",
      "|2017-11-22|d4219eeee12f34dbf...|273|2021-03-28 23:49:...|              2017-11|\n",
      "|2017-11-25|8a9d5014a0be4bf26...|247|2021-03-28 23:49:...|              2017-11|\n",
      "|2017-11-22|4d62f38fae9bbfbca...|243|2021-03-28 23:49:...|              2017-11|\n",
      "|2017-11-23|2e5dcabe957dffb24...|239|2021-03-28 23:49:...|              2017-11|\n",
      "|2017-11-22|3b0f92f0a7a8c6751...|226|2021-03-28 23:49:...|              2017-11|\n",
      "|2017-11-22|ce214c3f536ca17ab...|223|2021-03-28 23:49:...|              2017-11|\n",
      "|2017-11-22|7a1893fafb2653245...|210|2021-03-28 23:49:...|              2017-11|\n",
      "|2017-11-26|8a9d5014a0be4bf26...|210|2021-03-28 23:49:...|              2017-11|\n",
      "|2017-11-26|e31c7cc0be0b41e2c...|207|2021-03-28 23:49:...|              2017-11|\n",
      "+----------+--------------------+---+--------------------+---------------------+\n",
      "only showing top 20 rows\n",
      "\n"
     ]
    }
   ],
   "source": [
    "dfQtdSessionsUsers.show()"
   ]
  },
  {
   "cell_type": "markdown",
   "id": "environmental-ministry",
   "metadata": {},
   "source": [
    "## Table name: bi.qtd_sessions\n",
    "#### #Qual StudentClient são mais acessados? Agrupamento por data. \n",
    "#### Alimentação diária por ano e mês"
   ]
  },
  {
   "cell_type": "code",
   "execution_count": 304,
   "id": "outstanding-beast",
   "metadata": {},
   "outputs": [],
   "source": [
    "#Table Name: bi.qtd_sessions_StudentClient\n",
    "dfQtdSessionsStudentClient = dfSessions\\\n",
    ".groupBy(to_date(\"SessionStartTime\").alias(\"dateSession\"),\n",
    "        \"StudentClient\")\\\n",
    ".count()\\\n",
    ".withColumnRenamed(\"count\", \"qtd\")\\\n",
    ".orderBy(\"dateSession\",\n",
    "        desc(\"qtd\"))\\\n",
    ".withColumn(\"ts_processamento\", current_timestamp())\\\n",
    ".withColumn(\"pt_ano_mes_referencia\", substring(to_date(\"dateSession\"), 1, 7)) #Partição Ano_mês SessionStartTime"
   ]
  },
  {
   "cell_type": "code",
   "execution_count": 305,
   "id": "potential-knight",
   "metadata": {},
   "outputs": [
    {
     "name": "stdout",
     "output_type": "stream",
     "text": [
      "root\n",
      " |-- dateSession: date (nullable = true)\n",
      " |-- StudentClient: string (nullable = true)\n",
      " |-- qtd: long (nullable = false)\n",
      " |-- ts_processamento: timestamp (nullable = false)\n",
      " |-- pt_ano_mes_referencia: string (nullable = true)\n",
      "\n"
     ]
    }
   ],
   "source": [
    "dfQtdSessionsStudentClient.printSchema()"
   ]
  },
  {
   "cell_type": "code",
   "execution_count": 306,
   "id": "foreign-draft",
   "metadata": {},
   "outputs": [
    {
     "name": "stdout",
     "output_type": "stream",
     "text": [
      "+-----------+-------------+----+--------------------+---------------------+\n",
      "|dateSession|StudentClient| qtd|    ts_processamento|pt_ano_mes_referencia|\n",
      "+-----------+-------------+----+--------------------+---------------------+\n",
      "| 2017-11-01|      Website|4072|2021-03-28 23:50:...|              2017-11|\n",
      "| 2017-11-01|      Android|1609|2021-03-28 23:50:...|              2017-11|\n",
      "| 2017-11-01|       Webapp| 300|2021-03-28 23:50:...|              2017-11|\n",
      "| 2017-11-01|          iOS| 227|2021-03-28 23:50:...|              2017-11|\n",
      "| 2017-11-02|      Website|3439|2021-03-28 23:50:...|              2017-11|\n",
      "| 2017-11-02|      Android|1148|2021-03-28 23:50:...|              2017-11|\n",
      "| 2017-11-02|          iOS| 185|2021-03-28 23:50:...|              2017-11|\n",
      "| 2017-11-02|       Webapp| 180|2021-03-28 23:50:...|              2017-11|\n",
      "| 2017-11-03|      Website|3938|2021-03-28 23:50:...|              2017-11|\n",
      "| 2017-11-03|      Android|1432|2021-03-28 23:50:...|              2017-11|\n",
      "| 2017-11-03|       Webapp| 274|2021-03-28 23:50:...|              2017-11|\n",
      "| 2017-11-03|          iOS| 203|2021-03-28 23:50:...|              2017-11|\n",
      "| 2017-11-04|      Website|3450|2021-03-28 23:50:...|              2017-11|\n",
      "| 2017-11-04|      Android|1417|2021-03-28 23:50:...|              2017-11|\n",
      "| 2017-11-04|       Webapp| 222|2021-03-28 23:50:...|              2017-11|\n",
      "| 2017-11-04|          iOS| 209|2021-03-28 23:50:...|              2017-11|\n",
      "| 2017-11-05|      Website|4463|2021-03-28 23:50:...|              2017-11|\n",
      "| 2017-11-05|      Android|1634|2021-03-28 23:50:...|              2017-11|\n",
      "| 2017-11-05|          iOS| 293|2021-03-28 23:50:...|              2017-11|\n",
      "| 2017-11-05|       Webapp| 281|2021-03-28 23:50:...|              2017-11|\n",
      "+-----------+-------------+----+--------------------+---------------------+\n",
      "only showing top 20 rows\n",
      "\n"
     ]
    }
   ],
   "source": [
    "dfQtdSessionsStudentClient.show()"
   ]
  },
  {
   "cell_type": "markdown",
   "id": "divine-hometown",
   "metadata": {},
   "source": [
    "# Montando a Dimensão subscriptions\n",
    "### Tabelas: bi.subscriptions"
   ]
  },
  {
   "cell_type": "markdown",
   "id": "scheduled-plaintiff",
   "metadata": {},
   "source": [
    "## Table name: bi.subscriptions\n",
    "\n",
    "#### Alimentação diária por ano e mês\n"
   ]
  },
  {
   "cell_type": "code",
   "execution_count": 102,
   "id": "declared-modification",
   "metadata": {},
   "outputs": [],
   "source": [
    "#bi.subscriptions (premium)\n",
    "dfSubscriptions = dfSubscriptions\\\n",
    ".withColumn(\"ts_processamento\", current_timestamp())\\\n",
    ".withColumn(\"pt_ano_referencia\", year(\"PaymentDate\"))\\\n",
    ".withColumn(\"pt_mes_referencia\", month(\"PaymentDate\"))"
   ]
  },
  {
   "cell_type": "code",
   "execution_count": 103,
   "id": "stainless-campus",
   "metadata": {},
   "outputs": [
    {
     "name": "stdout",
     "output_type": "stream",
     "text": [
      "root\n",
      " |-- PaymentDate: string (nullable = true)\n",
      " |-- PlanType: string (nullable = true)\n",
      " |-- StudentId: string (nullable = true)\n",
      " |-- ts_processamento: timestamp (nullable = false)\n",
      " |-- pt_ano_referencia: integer (nullable = true)\n",
      " |-- pt_mes_referencia: integer (nullable = true)\n",
      "\n"
     ]
    }
   ],
   "source": [
    "dfSubscriptions.printSchema()"
   ]
  },
  {
   "cell_type": "code",
   "execution_count": 104,
   "id": "stupid-designer",
   "metadata": {},
   "outputs": [
    {
     "name": "stdout",
     "output_type": "stream",
     "text": [
      "+--------------------+--------+--------------------+--------------------+-----------------+-----------------+\n",
      "|         PaymentDate|PlanType|           StudentId|    ts_processamento|pt_ano_referencia|pt_mes_referencia|\n",
      "+--------------------+--------+--------------------+--------------------+-----------------+-----------------+\n",
      "|2017-11-14 19:52:...|  Mensal|29037b0a52c5b576d...|2021-03-28 19:36:...|             2017|               11|\n",
      "|2017-11-08 11:52:...|  Mensal|b2bace77d15c3dfaf...|2021-03-28 19:36:...|             2017|               11|\n",
      "|2017-11-05 21:27:...|  Mensal|f423d6fe2f8964db6...|2021-03-28 19:36:...|             2017|               11|\n",
      "|2017-11-15 14:36:...|  Mensal|55ccbe518d2edbbd5...|2021-03-28 19:36:...|             2017|               11|\n",
      "|2017-11-12 22:19:...|  Mensal|b1b0f63fe3e4820cb...|2021-03-28 19:36:...|             2017|               11|\n",
      "|2017-11-22 01:03:...|  Mensal|ed46832f6b716fb2e...|2021-03-28 19:36:...|             2017|               11|\n",
      "|2017-11-24 19:03:...|  Mensal|69b7bee32821cf76b...|2021-03-28 19:36:...|             2017|               11|\n",
      "|2017-11-11 21:01:...|  Mensal|6553923125fe6364e...|2021-03-28 19:36:...|             2017|               11|\n",
      "|2017-11-12 16:41:...|  Mensal|3903a334d1af8ce83...|2021-03-28 19:36:...|             2017|               11|\n",
      "|2017-11-21 11:52:...|  Mensal|4487f81a4ea9b3c3c...|2021-03-28 19:36:...|             2017|               11|\n",
      "|2017-11-06 22:14:...|  Mensal|bde8436a92ab53ce2...|2021-03-28 19:36:...|             2017|               11|\n",
      "|2017-11-17 19:30:...|  Mensal|3ae094228e1b9324e...|2021-03-28 19:36:...|             2017|               11|\n",
      "|2017-11-10 22:33:...|  Mensal|5a0df378119b95d3c...|2021-03-28 19:36:...|             2017|               11|\n",
      "|2017-11-08 22:06:...|  Mensal|fed3de568756e019f...|2021-03-28 19:36:...|             2017|               11|\n",
      "|2017-11-01 18:14:...|  Mensal|68beec3e289e3316e...|2021-03-28 19:36:...|             2017|               11|\n",
      "|2017-11-10 15:22:...|  Mensal|ecb4e29cd9585b080...|2021-03-28 19:36:...|             2017|               11|\n",
      "|2017-11-09 01:10:...|  Mensal|2e34dfda3cca387a7...|2021-03-28 19:36:...|             2017|               11|\n",
      "|2017-11-08 00:41:...|  Mensal|85529f64c1428b69f...|2021-03-28 19:36:...|             2017|               11|\n",
      "|2017-11-30 12:57:...|  Mensal|a189c626b75ca9925...|2021-03-28 19:36:...|             2017|               11|\n",
      "|2017-11-13 12:20:...|  Mensal|fe9f61ef8539dfbdb...|2021-03-28 19:36:...|             2017|               11|\n",
      "+--------------------+--------+--------------------+--------------------+-----------------+-----------------+\n",
      "only showing top 20 rows\n",
      "\n"
     ]
    }
   ],
   "source": [
    "dfSubscriptions.show()"
   ]
  },
  {
   "cell_type": "markdown",
   "id": "bronze-customs",
   "metadata": {},
   "source": [
    "## Table name: bi.qtd_disc_premium\n",
    "\n",
    "### Quais disciplinas são mais acessadas por premium dentro do mês?\n",
    "\n",
    "#### Alimentação diária por ano e mês"
   ]
  },
  {
   "cell_type": "code",
   "execution_count": 105,
   "id": "floral-wagner",
   "metadata": {},
   "outputs": [],
   "source": [
    "#Table name: bi.qtd_disc_premium\n",
    "dfQtdDiscPremium = dfSubscriptions.alias(\"sub\")\\\n",
    ".join(dfSubjectsUser.alias(\"subUser\"),\n",
    "      trim(col(\"sub.StudentId\")) == trim(col(\"subUser.student_id\")),\n",
    "      how = \"inner\"\n",
    "     )\\\n",
    ".groupBy(\n",
    "    substring(col(\"sub.PaymentDate\"), 1, 7).alias(\"payment_year_month\"),\n",
    "    col(\"subUser.subjects_id\"),\n",
    "    col(\"subUser.subjects_name\")\n",
    ")\\\n",
    ".count()\\\n",
    ".withColumnRenamed(\"count\", \"qtd\")\\\n",
    ".orderBy(desc(\"qtd\"))\\\n",
    ".withColumn(\"ts_processamento\", current_timestamp())\\\n",
    ".select(\n",
    "    col(\"subUser.subjects_id\"),\n",
    "    col(\"subUser.subjects_name\"),\n",
    "    col(\"qtd\"),\n",
    "    col(\"ts_processamento\"),\n",
    "    col(\"payment_year_month\")\n",
    ")"
   ]
  },
  {
   "cell_type": "code",
   "execution_count": 106,
   "id": "infinite-dominican",
   "metadata": {},
   "outputs": [
    {
     "name": "stdout",
     "output_type": "stream",
     "text": [
      "root\n",
      " |-- subjects_id: long (nullable = true)\n",
      " |-- subjects_name: string (nullable = true)\n",
      " |-- qtd: long (nullable = false)\n",
      " |-- ts_processamento: timestamp (nullable = false)\n",
      " |-- payment_year_month: string (nullable = true)\n",
      "\n"
     ]
    }
   ],
   "source": [
    "dfQtdDiscPremium.printSchema()"
   ]
  },
  {
   "cell_type": "code",
   "execution_count": 107,
   "id": "shaped-trunk",
   "metadata": {},
   "outputs": [
    {
     "name": "stdout",
     "output_type": "stream",
     "text": [
      "+-----------+--------------------+---+--------------------+------------------+\n",
      "|subjects_id|       subjects_name|qtd|    ts_processamento|payment_year_month|\n",
      "+-----------+--------------------+---+--------------------+------------------+\n",
      "|     669660|Matemática Financ...| 70|2021-03-28 19:38:...|           2017-11|\n",
      "|     683360|Introdução à Admi...| 60|2021-03-28 19:38:...|           2017-11|\n",
      "|     682100|       Administração| 48|2021-03-28 19:38:...|           2017-11|\n",
      "|     692813|Contabilidade Básica| 46|2021-03-28 19:38:...|           2017-11|\n",
      "|     669699|           Cálculo I| 46|2021-03-28 19:38:...|           2017-11|\n",
      "|     670592|Cálculo Diferenci...| 41|2021-03-28 19:38:...|           2017-11|\n",
      "|     669404|Administração Fin...| 35|2021-03-28 19:38:...|           2017-11|\n",
      "|     669744|          Cálculo II| 35|2021-03-28 19:38:...|           2017-11|\n",
      "|     669454|Resistência dos M...| 34|2021-03-28 19:38:...|           2017-11|\n",
      "|     670384|      Mecânica Geral| 34|2021-03-28 19:38:...|           2017-11|\n",
      "|     675399|Metodologia Cient...| 33|2021-03-28 19:38:...|           2017-11|\n",
      "|     670196|            Didática| 32|2021-03-28 19:38:...|           2017-11|\n",
      "|     689481|     Direito Civil I| 32|2021-03-28 19:38:...|           2017-11|\n",
      "|     671126|Direito Constituc...| 31|2021-03-28 19:38:...|           2017-11|\n",
      "|     671154|          Bioquímica| 31|2021-03-28 19:38:...|           2017-11|\n",
      "|     670661|Cálculo Diferenci...| 31|2021-03-28 19:38:...|           2017-11|\n",
      "|     669796|            Física I| 31|2021-03-28 19:38:...|           2017-11|\n",
      "|    1109915|Planejamento de C...| 31|2021-03-28 19:38:...|           2017-11|\n",
      "|     672147|Contabilidade / C...| 29|2021-03-28 19:38:...|           2017-11|\n",
      "|     671776|      Álgebra Linear| 29|2021-03-28 19:38:...|           2017-11|\n",
      "+-----------+--------------------+---+--------------------+------------------+\n",
      "only showing top 20 rows\n",
      "\n"
     ]
    }
   ],
   "source": [
    "dfQtdDiscPremium.show()"
   ]
  },
  {
   "cell_type": "markdown",
   "id": "heavy-freedom",
   "metadata": {},
   "source": [
    "## Table name: bi.qtd_disc_npremium\n",
    "\n",
    "### #Quais disciplinas são mais acessadas por não premium dentro do mês?\n",
    "\n",
    "#### Alimentação diária por ano e mês\n"
   ]
  },
  {
   "cell_type": "code",
   "execution_count": 196,
   "id": "twenty-senate",
   "metadata": {},
   "outputs": [],
   "source": [
    "#bi.qtd_disc_npremium\n",
    "dfDiscGrat =  dfSubscriptions.alias(\"sub\")\\\n",
    ".join(dfSubjectsUser.alias(\"SubUser\"),\n",
    "      trim(col(\"sub.StudentId\")) == trim(col(\"SubUser.student_id\")),\n",
    "      how = \"right\"\n",
    "     )\\\n",
    ".filter(\"sub.StudentId is null\")\\\n",
    ".groupBy(\n",
    "    col(\"SubUser.subjects_id\"),\n",
    "    col(\"SubUser.subjects_name\")\n",
    ")\\\n",
    ".count()\\\n",
    ".withColumnRenamed(\"count\", \"qtd\")\\\n",
    ".orderBy(desc(\"qtd\"))\\\n",
    ".withColumn(\"ts_processamento\", current_timestamp())\\\n",
    ".withColumn(\"pt_ano_mes_referencia\", substring(\"ts_processamento\", 1, 7))"
   ]
  },
  {
   "cell_type": "code",
   "execution_count": 197,
   "id": "velvet-business",
   "metadata": {},
   "outputs": [
    {
     "name": "stdout",
     "output_type": "stream",
     "text": [
      "root\n",
      " |-- subjects_id: long (nullable = true)\n",
      " |-- subjects_name: string (nullable = true)\n",
      " |-- qtd: long (nullable = false)\n",
      " |-- ts_processamento: timestamp (nullable = false)\n",
      " |-- pt_ano_mes_referencia: string (nullable = false)\n",
      "\n"
     ]
    }
   ],
   "source": [
    "dfDiscGrat.printSchema()"
   ]
  },
  {
   "cell_type": "code",
   "execution_count": 198,
   "id": "peripheral-harvey",
   "metadata": {},
   "outputs": [
    {
     "name": "stdout",
     "output_type": "stream",
     "text": [
      "+-----------+--------------------+----+--------------------+---------------------+\n",
      "|subjects_id|       subjects_name| qtd|    ts_processamento|pt_ano_mes_referencia|\n",
      "+-----------+--------------------+----+--------------------+---------------------+\n",
      "|     671154|          Bioquímica|4192|2021-03-28 21:45:...|              2021-03|\n",
      "|     669699|           Cálculo I|4008|2021-03-28 21:45:...|              2021-03|\n",
      "|     670780|     Anatomia Humana|3930|2021-03-28 21:45:...|              2021-03|\n",
      "|     671126|Direito Constituc...|3895|2021-03-28 21:45:...|              2021-03|\n",
      "|     669660|Matemática Financ...|3335|2021-03-28 21:45:...|              2021-03|\n",
      "|     669796|            Física I|2993|2021-03-28 21:45:...|              2021-03|\n",
      "|     676833|     Direito Penal I|2928|2021-03-28 21:45:...|              2021-03|\n",
      "|     680401|   Fisiologia Humana|2884|2021-03-28 21:45:...|              2021-03|\n",
      "|     676780|Direito Constituc...|2829|2021-03-28 21:45:...|              2021-03|\n",
      "|     672228|Direito Processua...|2556|2021-03-28 21:45:...|              2021-03|\n",
      "|     669744|          Cálculo II|2502|2021-03-28 21:45:...|              2021-03|\n",
      "|     670592|Cálculo Diferenci...|2416|2021-03-28 21:45:...|              2021-03|\n",
      "|     669454|Resistência dos M...|2331|2021-03-28 21:45:...|              2021-03|\n",
      "|     671086|            Genética|2254|2021-03-28 21:45:...|              2021-03|\n",
      "|     672547|        Farmacologia|2226|2021-03-28 21:45:...|              2021-03|\n",
      "|     670384|      Mecânica Geral|2113|2021-03-28 21:45:...|              2021-03|\n",
      "|     675399|Metodologia Cient...|2102|2021-03-28 21:45:...|              2021-03|\n",
      "|     682100|       Administração|2080|2021-03-28 21:45:...|              2021-03|\n",
      "|     670819|Direito Administr...|2058|2021-03-28 21:45:...|              2021-03|\n",
      "|     689481|     Direito Civil I|2055|2021-03-28 21:45:...|              2021-03|\n",
      "+-----------+--------------------+----+--------------------+---------------------+\n",
      "only showing top 20 rows\n",
      "\n"
     ]
    }
   ],
   "source": [
    "dfDiscGrat.show()"
   ]
  },
  {
   "cell_type": "markdown",
   "id": "norwegian-variable",
   "metadata": {},
   "source": [
    "# Load base B\n",
    "\n",
    "## Table name bi.events\n",
    "\n",
    "### Tabela alimentada diariamente de acordo com o recebimento dos logs\n",
    "\n",
    "## O que acessam na nossa plataforma e como fazem isso."
   ]
  },
  {
   "cell_type": "code",
   "execution_count": 348,
   "id": "independent-aquatic",
   "metadata": {},
   "outputs": [],
   "source": [
    "#Table name bi.events\n",
    "#Obs: Criado a coluna student_id. Utilizando a coluna studentId_clientType, removendo do @ em diante. \n",
    "dfEvents = spark.read.format(\"json\").load(\"/files/passei/BASE-B/*.json\")\\\n",
    ".withColumn(\"students_id\", regexp_replace(col(\"studentId_clientType\"), \"(@[^\\\\@]+)$\", \"\"))\\\n",
    ".withColumn(\"ts_processamento\", current_timestamp())\\\n",
    ".withColumn(\"pt_ano_referencia\", year(\"at\"))\\\n",
    ".withColumn(\"pt_mes_referencia\", month(\"at\"))"
   ]
  },
  {
   "cell_type": "code",
   "execution_count": 349,
   "id": "approximate-annual",
   "metadata": {},
   "outputs": [
    {
     "name": "stdout",
     "output_type": "stream",
     "text": [
      "root\n",
      " |-- Last Accessed Url: string (nullable = true)\n",
      " |-- Page Category: string (nullable = true)\n",
      " |-- Page Category 1: string (nullable = true)\n",
      " |-- Page Category 2: string (nullable = true)\n",
      " |-- Page Category 3: string (nullable = true)\n",
      " |-- Page Name: string (nullable = true)\n",
      " |-- at: string (nullable = true)\n",
      " |-- browser: string (nullable = true)\n",
      " |-- carrier: string (nullable = true)\n",
      " |-- city_name: string (nullable = true)\n",
      " |-- clv_total: long (nullable = true)\n",
      " |-- country: string (nullable = true)\n",
      " |-- custom_1: string (nullable = true)\n",
      " |-- custom_2: string (nullable = true)\n",
      " |-- custom_3: string (nullable = true)\n",
      " |-- custom_4: string (nullable = true)\n",
      " |-- device_new: boolean (nullable = true)\n",
      " |-- first-accessed-page: string (nullable = true)\n",
      " |-- install_uuid: string (nullable = true)\n",
      " |-- language: string (nullable = true)\n",
      " |-- library_ver: string (nullable = true)\n",
      " |-- marketing_campaign: string (nullable = true)\n",
      " |-- marketing_medium: string (nullable = true)\n",
      " |-- marketing_source: string (nullable = true)\n",
      " |-- model: string (nullable = true)\n",
      " |-- name: string (nullable = true)\n",
      " |-- nth: long (nullable = true)\n",
      " |-- os_ver: string (nullable = true)\n",
      " |-- platform: string (nullable = true)\n",
      " |-- region: string (nullable = true)\n",
      " |-- session_uuid: string (nullable = true)\n",
      " |-- studentId_clientType: string (nullable = true)\n",
      " |-- type: string (nullable = true)\n",
      " |-- user_type: string (nullable = true)\n",
      " |-- uuid: string (nullable = true)\n",
      " |-- students_id: string (nullable = true)\n",
      " |-- ts_processamento: timestamp (nullable = false)\n",
      " |-- pt_ano_referencia: integer (nullable = true)\n",
      " |-- pt_mes_referencia: integer (nullable = true)\n",
      "\n"
     ]
    }
   ],
   "source": [
    "dfEvents.printSchema()"
   ]
  },
  {
   "cell_type": "code",
   "execution_count": 350,
   "id": "passive-antique",
   "metadata": {},
   "outputs": [
    {
     "data": {
      "text/plain": [
       "Row(Last Accessed Url='/', Page Category='perfil', Page Category 1='perfil', Page Category 2='Undefined', Page Category 3='Undefined', Page Name='/perfil/22482764/materiais', at='2017-11-16 02:10:20', browser='Chrome 62', carrier='Telemar Norte Leste S.a.', city_name=None, clv_total=None, country='br', custom_1='ESTÁCIO EAD', custom_2='Pedagogia', custom_3=None, custom_4='Core User', device_new=False, first-accessed-page=None, install_uuid='fdfff303505f8a18b17ee40587e785f6bb9c8374', language='pt', library_ver='web_3.3.3', marketing_campaign=None, marketing_medium=None, marketing_source=None, model='Linux armv7l', name='Page View', nth=17, os_ver='', platform='Linux', region=None, session_uuid='188031bec37fc43b737c2c49349076700ae89128', studentId_clientType='34cbeaf4a28c798de94cd9afb43d4e2e49ce80d6b52364e097371db586d4ea48@Website', type='e', user_type='known', uuid='1b3ed1360694ceae79f6361ed11b03cf245311c8', students_id='34cbeaf4a28c798de94cd9afb43d4e2e49ce80d6b52364e097371db586d4ea48', ts_processamento=datetime.datetime(2021, 3, 29, 1, 25, 29, 281000), pt_ano_referencia=2017, pt_mes_referencia=11)"
      ]
     },
     "execution_count": 350,
     "metadata": {},
     "output_type": "execute_result"
    }
   ],
   "source": [
    "dfEvents.head()"
   ]
  },
  {
   "cell_type": "markdown",
   "id": "developmental-eating",
   "metadata": {},
   "source": [
    "## Table name bi_qtd_acess_users_all\n",
    "\n",
    "### O que os usuários acessam na plataforma e como acessam?\n",
    "\n",
    "### Agrupado o campo \"platform\" com diversas versões de Windows para \"Windows\""
   ]
  },
  {
   "cell_type": "code",
   "execution_count": 331,
   "id": "amended-solomon",
   "metadata": {},
   "outputs": [],
   "source": [
    "#Table name: bi_qtd_acess_users_all\n",
    "#Obs: Agrupado diferentes versões de Windows 'N', para Windows.\n",
    "from pyspark.sql import functions as F\n",
    "dfQtdAcessUserAll = dfEvents\\\n",
    ".withColumn(\"platform\", \n",
    "            when(F.col(\"platform\").like('Windows%'), \"Windows\")\n",
    "            .otherwise(col(\"platform\"))           \n",
    "           )\\\n",
    ".groupBy(\n",
    "    to_date(\"at\").alias(\"day_event\"),\n",
    "    \"Page Name\",\n",
    "    \"Page Category\",\n",
    "    \"Page Category 1\",\n",
    "    \"Page Category 2\",\n",
    "    \"Page Category 3\",\n",
    "    \"model\",\n",
    "    \"platform\")\\\n",
    ".count()\\\n",
    ".withColumnRenamed(\"count\", \"qtd\")\\\n",
    ".orderBy(desc(\"qtd\"),\n",
    "        \"Page Name\")\\\n",
    ".withColumn(\"ts_processamento\", current_timestamp())\\\n",
    ".withColumn(\"pt_ano_mes_referencia\", substring(\"day_event\", 1,7))"
   ]
  },
  {
   "cell_type": "code",
   "execution_count": 332,
   "id": "ongoing-kernel",
   "metadata": {},
   "outputs": [
    {
     "name": "stdout",
     "output_type": "stream",
     "text": [
      "+----------+--------------------+------------------+------------------+---------------+---------------+------------+--------+-----+--------------------+---------------------+\n",
      "| day_event|           Page Name|     Page Category|   Page Category 1|Page Category 2|Page Category 3|       model|platform|  qtd|    ts_processamento|pt_ano_mes_referencia|\n",
      "+----------+--------------------+------------------+------------------+---------------+---------------+------------+--------+-----+--------------------+---------------------+\n",
      "|2017-11-16|                   /|              home|         Undefined|      Undefined|      Undefined|       Win32| Windows|51411|2021-03-29 01:12:...|              2017-11|\n",
      "|2017-11-16|    /cadastro/passo1|          cadastro|          cadastro|      Undefined|      Undefined|       Win32| Windows|18436|2021-03-29 01:12:...|              2017-11|\n",
      "|2017-11-16|    /cadastro/passo2|          cadastro|          cadastro|      Undefined|      Undefined|       Win32| Windows|17775|2021-03-29 01:12:...|              2017-11|\n",
      "|2017-11-16|   /cadastro/premium|          cadastro|          cadastro|      Undefined|      Undefined|       Win32| Windows|12454|2021-03-29 01:12:...|              2017-11|\n",
      "|2017-11-16|             /listas|            listas|            listas|      Undefined|      Undefined|       Win32| Windows| 9166|2021-03-29 01:12:...|              2017-11|\n",
      "|2017-11-16|                   /|              home|              null|           null|           null|       Win32| Windows| 8047|2021-03-29 01:12:...|              2017-11|\n",
      "|2017-11-16|            /premium|           premium|              null|           null|           null|       Win32| Windows| 6003|2021-03-29 01:12:...|              2017-11|\n",
      "|2017-11-16|/configuracoes/conta|     configuracoes|     configuracoes|      Undefined|      Undefined|       Win32| Windows| 4727|2021-03-29 01:12:...|              2017-11|\n",
      "|2017-11-16|                   /|              home|              null|           null|           null|Linux armv7l| Android| 3244|2021-03-29 01:12:...|              2017-11|\n",
      "|2017-11-16| /explorar-materiais|explorar-materiais|explorar-materiais|      Undefined|      Undefined|       Win32| Windows| 3213|2021-03-29 01:12:...|              2017-11|\n",
      "|2017-11-16|/disciplina/seguindo|        disciplina|        disciplina|       seguindo|      Undefined|       Win32| Windows| 3086|2021-03-29 01:12:...|              2017-11|\n",
      "|2017-11-16|/pagamento/premiu...|         pagamento|         pagamento|      Undefined|      Undefined|       Win32| Windows| 2609|2021-03-29 01:12:...|              2017-11|\n",
      "|2017-11-16|      /ranking/curso|           ranking|           ranking|      Undefined|      Undefined|       Win32| Windows| 2350|2021-03-29 01:12:...|              2017-11|\n",
      "|2017-11-16|                   /|              home|         Undefined|      Undefined|      Undefined|       Win64| Windows| 2266|2021-03-29 01:12:...|              2017-11|\n",
      "|2017-11-16|   /listas/historico|            listas|            listas|      Undefined|      Undefined|       Win32| Windows| 2214|2021-03-29 01:12:...|              2017-11|\n",
      "|2017-11-16|/pagamento/premiu...|         pagamento|         pagamento|      Undefined|      Undefined|       Win32| Windows| 2118|2021-03-29 01:12:...|              2017-11|\n",
      "|2017-11-16|    /cadastro/passo1|          cadastro|              null|           null|           null|Linux armv7l| Android| 1949|2021-03-29 01:12:...|              2017-11|\n",
      "|2017-11-16|              /busca|             busca|             busca|      Undefined|      Undefined|       Win32| Windows| 1341|2021-03-29 01:12:...|              2017-11|\n",
      "|2017-11-16|/configuracoes/me...|     configuracoes|     configuracoes|      Undefined|      Undefined|       Win32| Windows| 1335|2021-03-29 01:12:...|              2017-11|\n",
      "|2017-11-16|    /cadastro/passo2|          cadastro|              null|           null|           null|Linux armv7l| Android| 1231|2021-03-29 01:12:...|              2017-11|\n",
      "+----------+--------------------+------------------+------------------+---------------+---------------+------------+--------+-----+--------------------+---------------------+\n",
      "only showing top 20 rows\n",
      "\n"
     ]
    }
   ],
   "source": [
    "dfQtdAcessUserAll.show()"
   ]
  },
  {
   "cell_type": "code",
   "execution_count": 255,
   "id": "random-billy",
   "metadata": {},
   "outputs": [
    {
     "name": "stdout",
     "output_type": "stream",
     "text": [
      "+-------------+------+\n",
      "|     platform| count|\n",
      "+-------------+------+\n",
      "|          iOS| 10499|\n",
      "|        Linux|  2490|\n",
      "|        Other|    34|\n",
      "|       Fedora|    38|\n",
      "|    Chrome OS|   535|\n",
      "|BlackBerry OS|     2|\n",
      "|       Ubuntu|  1051|\n",
      "|      Android| 24822|\n",
      "|     Mac OS X|  3925|\n",
      "|      Windows|185689|\n",
      "+-------------+------+\n",
      "\n"
     ]
    }
   ],
   "source": [
    "# Consulta: Após o agrupamento, temos as seguintes plataformas. \n",
    "dfQtdAcessUserAll\\\n",
    ".groupBy(\"platform\")\\\n",
    ".count()\\\n",
    ".show()"
   ]
  },
  {
   "cell_type": "code",
   "execution_count": 261,
   "id": "several-explosion",
   "metadata": {},
   "outputs": [
    {
     "name": "stdout",
     "output_type": "stream",
     "text": [
      "+---------+------+\n",
      "|user_type| count|\n",
      "+---------+------+\n",
      "|anonymous| 52676|\n",
      "|    known|646266|\n",
      "+---------+------+\n",
      "\n"
     ]
    }
   ],
   "source": [
    "dfEvents\\\n",
    ".groupBy(\"user_type\")\\\n",
    ".count()\\\n",
    ".show()"
   ]
  },
  {
   "cell_type": "markdown",
   "id": "ethical-perry",
   "metadata": {},
   "source": [
    "## Table name bi.events_premium\n",
    "\n",
    "### O que os usuários premium mais acessam? De qual região? Qual Universidade e Curso?"
   ]
  },
  {
   "cell_type": "code",
   "execution_count": 366,
   "id": "eleven-boating",
   "metadata": {},
   "outputs": [],
   "source": [
    "dfQtEventsUserAcess = dfEvents\\\n",
    ".filter(col(\"user_type\") == \"known\")\\\n",
    ".filter(F.col(\"students_id\").isNotNull())\\\n",
    ".withColumn(\"platform\", \n",
    "            when(F.col(\"platform\").like('Windows%'), \"Windows\")\n",
    "            .otherwise(col(\"platform\"))           \n",
    "           )\\\n",
    ".groupBy(\n",
    "    to_date(\"at\").alias(\"day_event\"),\n",
    "    \"Page Name\",\n",
    "    \"Page Category\",\n",
    "    \"Page Category 1\",\n",
    "    \"Page Category 2\",\n",
    "    \"Page Category 3\",\n",
    "    \"platform\",\n",
    "    \"students_id\")\\\n",
    ".count()\\\n",
    ".withColumnRenamed(\"count\", \"qtd\")\\\n",
    ".orderBy(desc(\"qtd\"),\n",
    "        \"Page Name\")\\\n",
    ".withColumn(\"ts_processamento\", current_timestamp())\\\n",
    ".withColumn(\"pt_ano_mes_referencia\", substring(\"day_event\", 1,7))"
   ]
  },
  {
   "cell_type": "code",
   "execution_count": 376,
   "id": "united-latex",
   "metadata": {},
   "outputs": [],
   "source": [
    "#O que os usuários premium mais acessam? De qual região? Qual Universidade e Curso?\n",
    "#Table name: bi.events_premium\n",
    "dfEventsPremium = dfQtEventsUserAcess.alias(\"eventsUsers\")\\\n",
    "    .join(dfCadastro.alias(\"cadastro\"),\n",
    "          trim(col(\"eventsUsers.students_id\")) == trim(col(\"cadastro.students_id\")),\n",
    "          how = \"inner\")\\\n",
    "    .join(dfSubscriptions.alias(\"premium\"),\n",
    "         trim(col(\"cadastro.students_id\")) == trim(col(\"premium.StudentId\")),\n",
    "          how = \"inner\"\n",
    "         )\\\n",
    ".select(\n",
    "    col(\"eventsUsers.day_event\"),\n",
    "    col(\"eventsUsers.Page Name\").alias(\"page_name\"),\n",
    "    col(\"eventsUsers.Page Category\").alias(\"page_categoria\"),\n",
    "    col(\"eventsUsers.Page Category 1\").alias(\"page_categoria_1\"),\n",
    "    col(\"eventsUsers.Page Category 2\").alias(\"page_categoria_2\"),\n",
    "    col(\"eventsUsers.Page Category 3\").alias(\"page_categoria_3\"),\n",
    "    col(\"eventsUsers.platform\"),\n",
    "    col(\"eventsUsers.students_id\"),\n",
    "    col(\"cadastro.students_state\"),\n",
    "    col(\"cadastro.students_city\"),\n",
    "    col(\"cadastro.universities_id\"),\n",
    "    col(\"cadastro.universities_name\"),\n",
    "    col(\"cadastro.courses_id\"),\n",
    "    col(\"cadastro.courses_name\"),\n",
    "    to_date(col(\"premium.PaymentDate\")).alias(\"payment_date\"),\n",
    "    col(\"premium.PlanType\").alias(\"plan_type\"),    \n",
    "    col(\"eventsUsers.qtd\").alias(\"qtd_acesso\")\n",
    ").distinct()\\\n",
    ".orderBy(desc(\"qtd_acesso\"))\\\n",
    ".withColumn(\"ts_processamento\", current_timestamp())\\\n",
    ".withColumn(\"pt_ano_mes_referencia\", substring(\"day_event\", 1,7))"
   ]
  },
  {
   "cell_type": "code",
   "execution_count": 377,
   "id": "tight-monroe",
   "metadata": {},
   "outputs": [
    {
     "name": "stdout",
     "output_type": "stream",
     "text": [
      "root\n",
      " |-- day_event: date (nullable = true)\n",
      " |-- page_name: string (nullable = true)\n",
      " |-- page_categoria: string (nullable = true)\n",
      " |-- page_categoria_1: string (nullable = true)\n",
      " |-- page_categoria_2: string (nullable = true)\n",
      " |-- page_categoria_3: string (nullable = true)\n",
      " |-- platform: string (nullable = true)\n",
      " |-- students_id: string (nullable = true)\n",
      " |-- students_state: string (nullable = true)\n",
      " |-- students_city: string (nullable = true)\n",
      " |-- universities_id: long (nullable = true)\n",
      " |-- universities_name: string (nullable = true)\n",
      " |-- courses_id: long (nullable = true)\n",
      " |-- courses_name: string (nullable = true)\n",
      " |-- payment_date: date (nullable = true)\n",
      " |-- plan_type: string (nullable = true)\n",
      " |-- qtd_acesso: long (nullable = false)\n",
      " |-- ts_processamento: timestamp (nullable = false)\n",
      " |-- pt_ano_mes_referencia: string (nullable = true)\n",
      "\n"
     ]
    }
   ],
   "source": [
    "dfEventsPremium.printSchema()"
   ]
  },
  {
   "cell_type": "code",
   "execution_count": 378,
   "id": "unavailable-cache",
   "metadata": {},
   "outputs": [
    {
     "name": "stdout",
     "output_type": "stream",
     "text": [
      "+----------+--------------------+--------------+----------------+--------------------+----------------+--------+--------------------+-----------------+--------------+---------------+-----------------+----------+--------------------+------------+---------+----------+--------------------+---------------------+\n",
      "| day_event|           page_name|page_categoria|page_categoria_1|    page_categoria_2|page_categoria_3|platform|         students_id|   students_state| students_city|universities_id|universities_name|courses_id|        courses_name|payment_date|plan_type|qtd_acesso|    ts_processamento|pt_ano_mes_referencia|\n",
      "+----------+--------------------+--------------+----------------+--------------------+----------------+--------+--------------------+-----------------+--------------+---------------+-----------------+----------+--------------------+------------+---------+----------+--------------------+---------------------+\n",
      "|2017-11-16|/disciplina/psico...|    disciplina|      disciplina|psicologia-instit...|       Undefined| Windows|4dd2870e46a505511...|       Pernambuco|          null|         664623|          ESTÁCIO|   1199704|           Pedagogia|  2017-11-13|   Mensal|        93|2021-03-29 10:36:...|              2017-11|\n",
      "|2017-11-16|/disciplina/pedag...|    disciplina|      disciplina|pedagogia-nas-ins...|       Undefined| Windows|4dd2870e46a505511...|       Pernambuco|          null|         664623|          ESTÁCIO|   1199704|           Pedagogia|  2017-11-13|   Mensal|        38|2021-03-29 10:36:...|              2017-11|\n",
      "|2017-11-16|/disciplina/metod...|    disciplina|      disciplina|metodologia-cient...|       Undefined| Windows|235399080e00a71d6...|        São Paulo|          null|         664623|          ESTÁCIO|   1199517|             Direito|  2017-11-06|   Mensal|        26|2021-03-29 10:36:...|              2017-11|\n",
      "|2017-11-16|/disciplina/gesta...|    disciplina|      disciplina| gestao-da-qualidade|       Undefined| Windows|4dd2870e46a505511...|       Pernambuco|          null|         664623|          ESTÁCIO|   1199704|           Pedagogia|  2017-11-13|   Mensal|        22|2021-03-29 10:36:...|              2017-11|\n",
      "|2017-11-16|/disciplina/matem...|    disciplina|      disciplina|matematica-financ...|       Undefined| Windows|485429e1456118612...|   Rio de Janeiro|Rio de Janeiro|         664623|          ESTÁCIO|   1199633|Gestão de Comérci...|  2017-11-08|   Mensal|        16|2021-03-29 10:36:...|              2017-11|\n",
      "|2017-11-16|/disciplina/ensin...|    disciplina|      disciplina|ensino-clinico-ii...|       Undefined| Windows|2b084ab4c16977823...|            Ceará|          null|         664623|          ESTÁCIO|   1199529|          Enfermagem|  2017-11-14|   Mensal|        14|2021-03-29 10:36:...|              2017-11|\n",
      "|2017-11-16|/disciplina/avali...|    disciplina|      disciplina|avaliacao-institu...|       Undefined| Windows|4dd2870e46a505511...|       Pernambuco|          null|         664623|          ESTÁCIO|   1199704|           Pedagogia|  2017-11-13|   Mensal|        13|2021-03-29 10:36:...|              2017-11|\n",
      "|2017-11-16|             /listas|        listas|          listas|           Undefined|       Undefined| Windows|4dd2870e46a505511...|       Pernambuco|          null|         664623|          ESTÁCIO|   1199704|           Pedagogia|  2017-11-13|   Mensal|        13|2021-03-29 10:36:...|              2017-11|\n",
      "|2017-11-16|/disciplina/direi...|    disciplina|      disciplina|   direito-penal-iii|       Undefined| Windows|53d05d495983fd52d...|             null|          null|         664623|          ESTÁCIO|   1199517|             Direito|  2017-11-07|   Mensal|        13|2021-03-29 10:36:...|              2017-11|\n",
      "|2017-11-16|/disciplina/calcu...|    disciplina|      disciplina|calculo-diferenci...|       Undefined| Windows|d70d842713afce978...|             null|          null|         664623|          ESTÁCIO|   1199553|Engenharia de Pro...|  2017-11-05|   Mensal|        12|2021-03-29 10:36:...|              2017-11|\n",
      "|2017-11-16|                   /|          home|       Undefined|           Undefined|       Undefined| Windows|e574a0b44f0a00d23...|   Rio de Janeiro|          null|         664623|          ESTÁCIO|   1199517|             Direito|  2017-11-16|   Mensal|        11|2021-03-29 10:36:...|              2017-11|\n",
      "|2017-11-16|/disciplina/logic...|    disciplina|      disciplina|logica-de-program...|       Undefined| Windows|9f8a1157a0ded0df9...|            Goiás|       Goiânia|        1614530|          UNINTER|   1199704|           Pedagogia|  2017-11-08|   Mensal|        10|2021-03-29 10:36:...|              2017-11|\n",
      "|2017-11-16|/disciplina/merca...|    disciplina|      disciplina|  mercado-financeiro|       Undefined| Windows|5c04ed16fa75216c5...|        São Paulo|          Embu|         664623|          ESTÁCIO|   1199644|   Gestão Financeira|  2017-11-04|   Mensal|        10|2021-03-29 10:36:...|              2017-11|\n",
      "|2017-11-16|/disciplina/model...|    disciplina|      disciplina|  modelagem-de-dados|       Undefined| Windows|f68937b75647b3de6...|            Goiás|          null|         664623|          ESTÁCIO|   1199745|Sistemas de Infor...|  2017-11-12|   Mensal|        10|2021-03-29 10:36:...|              2017-11|\n",
      "|2017-11-16|/disciplina/matem...|    disciplina|      disciplina|matematica-para-n...|       Undefined| Windows|cfbb0c85eb4c8fdfc...|        São Paulo|          null|         664623|          ESTÁCIO|   1199453|       Administração|  2017-11-16|   Mensal|        10|2021-03-29 10:36:...|              2017-11|\n",
      "|2017-11-16|                   /|          home|       Undefined|           Undefined|       Undefined| Windows|6b4fc69dcf30183e1...|             null|          null|         662052|       UNIASSELVI|   1199506|Contabilidade / C...|  2017-11-14|   Mensal|        10|2021-03-29 10:36:...|              2017-11|\n",
      "|2017-11-16|/disciplina/matem...|    disciplina|      disciplina|matematica-financ...|       Undefined| Windows|26a81c536f61c79a5...|        São Paulo|          null|        1614530|          UNINTER|  30724897|Gestão da Tecnolo...|  2017-11-14|   Mensal|        10|2021-03-29 10:36:...|              2017-11|\n",
      "|2017-11-16|                   /|          home|       Undefined|           Undefined|       Undefined| Windows|cfbb0c85eb4c8fdfc...|        São Paulo|          null|         664623|          ESTÁCIO|   1199453|       Administração|  2017-11-16|   Mensal|         9|2021-03-29 10:36:...|              2017-11|\n",
      "|2017-11-16|/pagamento/premiu...|     pagamento|       pagamento|           Undefined|       Undefined| Windows|e4b2f20b4afe40f43...|Rio Grande do Sul|     Rio Pardo|        1614530|          UNINTER|   1199553|Engenharia de Pro...|  2017-11-27|    Anual|         8|2021-03-29 10:36:...|              2017-11|\n",
      "|2017-11-16|/disciplina/direi...|    disciplina|      disciplina|direito-constituc...|       Undefined| Windows|4ed25e8e003f808f2...|   Santa Catarina| Florianópolis|         664565|      ESTÁCIO EAD|   1199517|             Direito|  2017-11-03|   Mensal|         7|2021-03-29 10:36:...|              2017-11|\n",
      "+----------+--------------------+--------------+----------------+--------------------+----------------+--------+--------------------+-----------------+--------------+---------------+-----------------+----------+--------------------+------------+---------+----------+--------------------+---------------------+\n",
      "only showing top 20 rows\n",
      "\n"
     ]
    }
   ],
   "source": [
    "dfEventsPremium.show()"
   ]
  }
 ],
 "metadata": {
  "kernelspec": {
   "display_name": "Python 3",
   "language": "python",
   "name": "python3"
  },
  "language_info": {
   "codemirror_mode": {
    "name": "ipython",
    "version": 3
   },
   "file_extension": ".py",
   "mimetype": "text/x-python",
   "name": "python",
   "nbconvert_exporter": "python",
   "pygments_lexer": "ipython3",
   "version": "3.7.9"
  }
 },
 "nbformat": 4,
 "nbformat_minor": 5
}
